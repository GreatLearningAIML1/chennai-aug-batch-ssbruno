{
 "cells": [
  {
   "cell_type": "code",
   "execution_count": 5,
   "metadata": {
    "scrolled": false
   },
   "outputs": [],
   "source": [
    "import warnings\n",
    "warnings.filterwarnings('ignore')"
   ]
  },
  {
   "cell_type": "markdown",
   "metadata": {},
   "source": [
    "## K-Nearest-Neighbors"
   ]
  },
  {
   "cell_type": "markdown",
   "metadata": {},
   "source": [
    "KNN falls in the supervised learning family of algorithms. Informally, this means that we are given a labelled dataset consiting of training observations (x,y) and would like to capture the relationship between x and y. More formally, our goal is to learn a function h:X→Y so that given an unseen observation x, h(x) can confidently predict the corresponding output y.\n",
    "\n",
    "In this module we will explore the inner workings of KNN, choosing the optimal K values and using KNN from scikit-learn."
   ]
  },
  {
   "cell_type": "markdown",
   "metadata": {},
   "source": [
    "## Overview\n",
    "\n",
    "1.Read the problem statement.\n",
    "\n",
    "2.Get the dataset.\n",
    "\n",
    "3.Explore the dataset.\n",
    "\n",
    "4.Pre-processing of dataset.\n",
    "\n",
    "5.Visualization\n",
    "\n",
    "6.Transform the dataset for building machine learning model.\n",
    "\n",
    "7.Split data into train, test set.\n",
    "\n",
    "8.Build Model.\n",
    "\n",
    "9.Apply the model.\n",
    "\n",
    "10.Evaluate the model.\n",
    "\n",
    "11.Finding Optimal K value\n",
    "\n",
    "12.Repeat 6,7,8,9 steps."
   ]
  },
  {
   "cell_type": "markdown",
   "metadata": {},
   "source": [
    "## Problem statement\n",
    "\n",
    "### Dataset\n",
    "\n",
    "The data set we’ll be using is the Iris Flower Dataset which was first introduced in 1936 by the famous statistician Ronald Fisher and consists of 50 observations from each of three species of Iris (Iris setosa, Iris virginica and Iris versicolor). Four features were measured from each sample: the length and the width of the sepals and petals.\n",
    "\n",
    "**Attributes of the dataset:** https://archive.ics.uci.edu/ml/datasets/Iris\n",
    "\n",
    "**Train the KNN algorithm to be able to distinguish the species from one another given the measurements of the 4 features.**"
   ]
  },
  {
   "cell_type": "markdown",
   "metadata": {},
   "source": [
    "## Question 1\n",
    "\n",
    "Import the data set and print 10 random rows from the data set"
   ]
  },
  {
   "cell_type": "code",
   "execution_count": 6,
   "metadata": {},
   "outputs": [],
   "source": [
    "import numpy as np\n",
    "import pandas as pd"
   ]
  },
  {
   "cell_type": "code",
   "execution_count": 7,
   "metadata": {},
   "outputs": [
    {
     "data": {
      "text/html": [
       "<div>\n",
       "<style scoped>\n",
       "    .dataframe tbody tr th:only-of-type {\n",
       "        vertical-align: middle;\n",
       "    }\n",
       "\n",
       "    .dataframe tbody tr th {\n",
       "        vertical-align: top;\n",
       "    }\n",
       "\n",
       "    .dataframe thead th {\n",
       "        text-align: right;\n",
       "    }\n",
       "</style>\n",
       "<table border=\"1\" class=\"dataframe\">\n",
       "  <thead>\n",
       "    <tr style=\"text-align: right;\">\n",
       "      <th></th>\n",
       "      <th>Id</th>\n",
       "      <th>SepalLengthCm</th>\n",
       "      <th>SepalWidthCm</th>\n",
       "      <th>PetalLengthCm</th>\n",
       "      <th>PetalWidthCm</th>\n",
       "      <th>Species</th>\n",
       "    </tr>\n",
       "  </thead>\n",
       "  <tbody>\n",
       "    <tr>\n",
       "      <th>134</th>\n",
       "      <td>135</td>\n",
       "      <td>6.1</td>\n",
       "      <td>2.6</td>\n",
       "      <td>5.6</td>\n",
       "      <td>1.4</td>\n",
       "      <td>Iris-virginica</td>\n",
       "    </tr>\n",
       "    <tr>\n",
       "      <th>136</th>\n",
       "      <td>137</td>\n",
       "      <td>6.3</td>\n",
       "      <td>3.4</td>\n",
       "      <td>5.6</td>\n",
       "      <td>2.4</td>\n",
       "      <td>Iris-virginica</td>\n",
       "    </tr>\n",
       "    <tr>\n",
       "      <th>120</th>\n",
       "      <td>121</td>\n",
       "      <td>6.9</td>\n",
       "      <td>3.2</td>\n",
       "      <td>5.7</td>\n",
       "      <td>2.3</td>\n",
       "      <td>Iris-virginica</td>\n",
       "    </tr>\n",
       "    <tr>\n",
       "      <th>46</th>\n",
       "      <td>47</td>\n",
       "      <td>5.1</td>\n",
       "      <td>3.8</td>\n",
       "      <td>1.6</td>\n",
       "      <td>0.2</td>\n",
       "      <td>Iris-setosa</td>\n",
       "    </tr>\n",
       "    <tr>\n",
       "      <th>129</th>\n",
       "      <td>130</td>\n",
       "      <td>7.2</td>\n",
       "      <td>3.0</td>\n",
       "      <td>5.8</td>\n",
       "      <td>1.6</td>\n",
       "      <td>Iris-virginica</td>\n",
       "    </tr>\n",
       "    <tr>\n",
       "      <th>13</th>\n",
       "      <td>14</td>\n",
       "      <td>4.3</td>\n",
       "      <td>3.0</td>\n",
       "      <td>1.1</td>\n",
       "      <td>0.1</td>\n",
       "      <td>Iris-setosa</td>\n",
       "    </tr>\n",
       "    <tr>\n",
       "      <th>24</th>\n",
       "      <td>25</td>\n",
       "      <td>4.8</td>\n",
       "      <td>3.4</td>\n",
       "      <td>1.9</td>\n",
       "      <td>0.2</td>\n",
       "      <td>Iris-setosa</td>\n",
       "    </tr>\n",
       "    <tr>\n",
       "      <th>26</th>\n",
       "      <td>27</td>\n",
       "      <td>5.0</td>\n",
       "      <td>3.4</td>\n",
       "      <td>1.6</td>\n",
       "      <td>0.4</td>\n",
       "      <td>Iris-setosa</td>\n",
       "    </tr>\n",
       "    <tr>\n",
       "      <th>109</th>\n",
       "      <td>110</td>\n",
       "      <td>7.2</td>\n",
       "      <td>3.6</td>\n",
       "      <td>6.1</td>\n",
       "      <td>2.5</td>\n",
       "      <td>Iris-virginica</td>\n",
       "    </tr>\n",
       "    <tr>\n",
       "      <th>126</th>\n",
       "      <td>127</td>\n",
       "      <td>6.2</td>\n",
       "      <td>2.8</td>\n",
       "      <td>4.8</td>\n",
       "      <td>1.8</td>\n",
       "      <td>Iris-virginica</td>\n",
       "    </tr>\n",
       "  </tbody>\n",
       "</table>\n",
       "</div>"
      ],
      "text/plain": [
       "      Id  SepalLengthCm  SepalWidthCm  PetalLengthCm  PetalWidthCm  \\\n",
       "134  135            6.1           2.6            5.6           1.4   \n",
       "136  137            6.3           3.4            5.6           2.4   \n",
       "120  121            6.9           3.2            5.7           2.3   \n",
       "46    47            5.1           3.8            1.6           0.2   \n",
       "129  130            7.2           3.0            5.8           1.6   \n",
       "13    14            4.3           3.0            1.1           0.1   \n",
       "24    25            4.8           3.4            1.9           0.2   \n",
       "26    27            5.0           3.4            1.6           0.4   \n",
       "109  110            7.2           3.6            6.1           2.5   \n",
       "126  127            6.2           2.8            4.8           1.8   \n",
       "\n",
       "            Species  \n",
       "134  Iris-virginica  \n",
       "136  Iris-virginica  \n",
       "120  Iris-virginica  \n",
       "46      Iris-setosa  \n",
       "129  Iris-virginica  \n",
       "13      Iris-setosa  \n",
       "24      Iris-setosa  \n",
       "26      Iris-setosa  \n",
       "109  Iris-virginica  \n",
       "126  Iris-virginica  "
      ]
     },
     "execution_count": 7,
     "metadata": {},
     "output_type": "execute_result"
    }
   ],
   "source": [
    "iris_df = pd.read_csv(\"iris.csv\")\n",
    "iris_df.sample(10)"
   ]
  },
  {
   "cell_type": "markdown",
   "metadata": {},
   "source": [
    "## Data Pre-processing"
   ]
  },
  {
   "cell_type": "markdown",
   "metadata": {},
   "source": [
    "## Question 2 - Estimating missing values\n",
    "\n",
    "*Its not good to remove the records having missing values all the time. We may end up loosing some data points. So, we will have to see how to replace those missing values with some estimated values (median) *"
   ]
  },
  {
   "cell_type": "code",
   "execution_count": 8,
   "metadata": {},
   "outputs": [],
   "source": [
    "import seaborn as sns"
   ]
  },
  {
   "cell_type": "code",
   "execution_count": 9,
   "metadata": {},
   "outputs": [
    {
     "data": {
      "text/plain": [
       "<matplotlib.axes._subplots.AxesSubplot at 0x2681224e208>"
      ]
     },
     "execution_count": 9,
     "metadata": {},
     "output_type": "execute_result"
    },
    {
     "data": {
      "image/png": "[encoded data removed]",
      "text/plain": [
       "<Figure size 432x288 with 1 Axes>"
      ]
     },
     "metadata": {},
     "output_type": "display_data"
    }
   ],
   "source": [
    "sns.heatmap(iris_df.isnull(),yticklabels=False,cbar=False,cmap='viridis')"
   ]
  },
  {
   "cell_type": "code",
   "execution_count": 10,
   "metadata": {},
   "outputs": [
    {
     "data": {
      "text/plain": [
       "Id               0\n",
       "SepalLengthCm    1\n",
       "SepalWidthCm     2\n",
       "PetalLengthCm    2\n",
       "PetalWidthCm     1\n",
       "Species          0\n",
       "dtype: int64"
      ]
     },
     "execution_count": 10,
     "metadata": {},
     "output_type": "execute_result"
    }
   ],
   "source": [
    "iris_df.isnull().sum()"
   ]
  },
  {
   "cell_type": "code",
   "execution_count": 11,
   "metadata": {},
   "outputs": [],
   "source": [
    "na_cols = iris_df.select_dtypes(exclude=['object']).columns\n",
    "for col in na_cols:\n",
    "    iris_df[col].fillna(iris_df[col].mean(), inplace =True)"
   ]
  },
  {
   "cell_type": "code",
   "execution_count": 12,
   "metadata": {},
   "outputs": [
    {
     "data": {
      "text/plain": [
       "Id               0\n",
       "SepalLengthCm    0\n",
       "SepalWidthCm     0\n",
       "PetalLengthCm    0\n",
       "PetalWidthCm     0\n",
       "Species          0\n",
       "dtype: int64"
      ]
     },
     "execution_count": 12,
     "metadata": {},
     "output_type": "execute_result"
    }
   ],
   "source": [
    "iris_df.isnull().sum()"
   ]
  },
  {
   "cell_type": "markdown",
   "metadata": {},
   "source": [
    "## Question 3 - Dealing with categorical data\n",
    "\n",
    "Change all the classes to numericals (0to2)."
   ]
  },
  {
   "cell_type": "code",
   "execution_count": 13,
   "metadata": {},
   "outputs": [
    {
     "data": {
      "text/plain": [
       "<matplotlib.axes._subplots.AxesSubplot at 0x268125e23c8>"
      ]
     },
     "execution_count": 13,
     "metadata": {},
     "output_type": "execute_result"
    },
    {
     "data": {
      "image/png": "[encoded data removed]",
      "text/plain": [
       "<Figure size 432x288 with 1 Axes>"
      ]
     },
     "metadata": {},
     "output_type": "display_data"
    }
   ],
   "source": [
    "sns.set_style('whitegrid')\n",
    "sns.countplot(x='Species',data=iris_df,palette='RdBu_r')"
   ]
  },
  {
   "cell_type": "code",
   "execution_count": 14,
   "metadata": {
    "scrolled": true
   },
   "outputs": [
    {
     "data": {
      "text/html": [
       "<div>\n",
       "<style scoped>\n",
       "    .dataframe tbody tr th:only-of-type {\n",
       "        vertical-align: middle;\n",
       "    }\n",
       "\n",
       "    .dataframe tbody tr th {\n",
       "        vertical-align: top;\n",
       "    }\n",
       "\n",
       "    .dataframe thead th {\n",
       "        text-align: right;\n",
       "    }\n",
       "</style>\n",
       "<table border=\"1\" class=\"dataframe\">\n",
       "  <thead>\n",
       "    <tr style=\"text-align: right;\">\n",
       "      <th></th>\n",
       "      <th>Id</th>\n",
       "      <th>SepalLengthCm</th>\n",
       "      <th>SepalWidthCm</th>\n",
       "      <th>PetalLengthCm</th>\n",
       "      <th>PetalWidthCm</th>\n",
       "    </tr>\n",
       "    <tr>\n",
       "      <th>Species</th>\n",
       "      <th></th>\n",
       "      <th></th>\n",
       "      <th></th>\n",
       "      <th></th>\n",
       "      <th></th>\n",
       "    </tr>\n",
       "  </thead>\n",
       "  <tbody>\n",
       "    <tr>\n",
       "      <th>Iris-setosa</th>\n",
       "      <td>50</td>\n",
       "      <td>50</td>\n",
       "      <td>50</td>\n",
       "      <td>50</td>\n",
       "      <td>50</td>\n",
       "    </tr>\n",
       "    <tr>\n",
       "      <th>Iris-versicolor</th>\n",
       "      <td>50</td>\n",
       "      <td>50</td>\n",
       "      <td>50</td>\n",
       "      <td>50</td>\n",
       "      <td>50</td>\n",
       "    </tr>\n",
       "    <tr>\n",
       "      <th>Iris-virginica</th>\n",
       "      <td>52</td>\n",
       "      <td>52</td>\n",
       "      <td>52</td>\n",
       "      <td>52</td>\n",
       "      <td>52</td>\n",
       "    </tr>\n",
       "  </tbody>\n",
       "</table>\n",
       "</div>"
      ],
      "text/plain": [
       "                 Id  SepalLengthCm  SepalWidthCm  PetalLengthCm  PetalWidthCm\n",
       "Species                                                                      \n",
       "Iris-setosa      50             50            50             50            50\n",
       "Iris-versicolor  50             50            50             50            50\n",
       "Iris-virginica   52             52            52             52            52"
      ]
     },
     "execution_count": 14,
     "metadata": {},
     "output_type": "execute_result"
    }
   ],
   "source": [
    "iris_df.groupby(['Species']).count()"
   ]
  },
  {
   "cell_type": "code",
   "execution_count": 15,
   "metadata": {},
   "outputs": [],
   "source": [
    "species_names = iris_df.Species.unique()\n",
    "cnt=0\n",
    "for sp_name in species_names:\n",
    "    iris_df.replace(sp_name,cnt, inplace=True)\n",
    "    cnt=cnt+1"
   ]
  },
  {
   "cell_type": "code",
   "execution_count": 16,
   "metadata": {},
   "outputs": [
    {
     "data": {
      "text/plain": [
       "array([0, 1, 2], dtype=int64)"
      ]
     },
     "execution_count": 16,
     "metadata": {},
     "output_type": "execute_result"
    }
   ],
   "source": [
    "iris_df.Species.unique()"
   ]
  },
  {
   "cell_type": "markdown",
   "metadata": {},
   "source": [
    "## Question 4\n",
    "\n",
    "*Observe the association of each independent variable with target variable and drop variables from feature set having correlation in range -0.1 to 0.1 with target variable.*"
   ]
  },
  {
   "cell_type": "code",
   "execution_count": 17,
   "metadata": {},
   "outputs": [
    {
     "data": {
      "text/html": [
       "<div>\n",
       "<style scoped>\n",
       "    .dataframe tbody tr th:only-of-type {\n",
       "        vertical-align: middle;\n",
       "    }\n",
       "\n",
       "    .dataframe tbody tr th {\n",
       "        vertical-align: top;\n",
       "    }\n",
       "\n",
       "    .dataframe thead th {\n",
       "        text-align: right;\n",
       "    }\n",
       "</style>\n",
       "<table border=\"1\" class=\"dataframe\">\n",
       "  <thead>\n",
       "    <tr style=\"text-align: right;\">\n",
       "      <th></th>\n",
       "      <th>Id</th>\n",
       "      <th>SepalLengthCm</th>\n",
       "      <th>SepalWidthCm</th>\n",
       "      <th>PetalLengthCm</th>\n",
       "      <th>PetalWidthCm</th>\n",
       "      <th>Species</th>\n",
       "    </tr>\n",
       "  </thead>\n",
       "  <tbody>\n",
       "    <tr>\n",
       "      <th>Id</th>\n",
       "      <td>1.000000</td>\n",
       "      <td>0.703344</td>\n",
       "      <td>-0.389905</td>\n",
       "      <td>0.865382</td>\n",
       "      <td>0.889288</td>\n",
       "      <td>0.942753</td>\n",
       "    </tr>\n",
       "    <tr>\n",
       "      <th>SepalLengthCm</th>\n",
       "      <td>0.703344</td>\n",
       "      <td>1.000000</td>\n",
       "      <td>-0.109368</td>\n",
       "      <td>0.871741</td>\n",
       "      <td>0.816256</td>\n",
       "      <td>0.775490</td>\n",
       "    </tr>\n",
       "    <tr>\n",
       "      <th>SepalWidthCm</th>\n",
       "      <td>-0.389905</td>\n",
       "      <td>-0.109368</td>\n",
       "      <td>1.000000</td>\n",
       "      <td>-0.420516</td>\n",
       "      <td>-0.355808</td>\n",
       "      <td>-0.415367</td>\n",
       "    </tr>\n",
       "    <tr>\n",
       "      <th>PetalLengthCm</th>\n",
       "      <td>0.865382</td>\n",
       "      <td>0.871741</td>\n",
       "      <td>-0.420516</td>\n",
       "      <td>1.000000</td>\n",
       "      <td>0.960771</td>\n",
       "      <td>0.939813</td>\n",
       "    </tr>\n",
       "    <tr>\n",
       "      <th>PetalWidthCm</th>\n",
       "      <td>0.889288</td>\n",
       "      <td>0.816256</td>\n",
       "      <td>-0.355808</td>\n",
       "      <td>0.960771</td>\n",
       "      <td>1.000000</td>\n",
       "      <td>0.951545</td>\n",
       "    </tr>\n",
       "    <tr>\n",
       "      <th>Species</th>\n",
       "      <td>0.942753</td>\n",
       "      <td>0.775490</td>\n",
       "      <td>-0.415367</td>\n",
       "      <td>0.939813</td>\n",
       "      <td>0.951545</td>\n",
       "      <td>1.000000</td>\n",
       "    </tr>\n",
       "  </tbody>\n",
       "</table>\n",
       "</div>"
      ],
      "text/plain": [
       "                     Id  SepalLengthCm  SepalWidthCm  PetalLengthCm  \\\n",
       "Id             1.000000       0.703344     -0.389905       0.865382   \n",
       "SepalLengthCm  0.703344       1.000000     -0.109368       0.871741   \n",
       "SepalWidthCm  -0.389905      -0.109368      1.000000      -0.420516   \n",
       "PetalLengthCm  0.865382       0.871741     -0.420516       1.000000   \n",
       "PetalWidthCm   0.889288       0.816256     -0.355808       0.960771   \n",
       "Species        0.942753       0.775490     -0.415367       0.939813   \n",
       "\n",
       "               PetalWidthCm   Species  \n",
       "Id                 0.889288  0.942753  \n",
       "SepalLengthCm      0.816256  0.775490  \n",
       "SepalWidthCm      -0.355808 -0.415367  \n",
       "PetalLengthCm      0.960771  0.939813  \n",
       "PetalWidthCm       1.000000  0.951545  \n",
       "Species            0.951545  1.000000  "
      ]
     },
     "execution_count": 17,
     "metadata": {},
     "output_type": "execute_result"
    }
   ],
   "source": [
    "iris_df.corr(method='pearson')"
   ]
  },
  {
   "cell_type": "code",
   "execution_count": 18,
   "metadata": {},
   "outputs": [],
   "source": [
    "# By looking at the Correlation values, all the 4 independent variables are outside the range -0.1 and +0.1\n",
    "# So, all independent variables have some correlatation to target variable"
   ]
  },
  {
   "cell_type": "markdown",
   "metadata": {},
   "source": [
    "## Question 5\n",
    "\n",
    "*Observe the independent variables variance and drop such variables having no variance or almost zero variance(variance < 0.1). They will be having almost no influence on the classification.*"
   ]
  },
  {
   "cell_type": "code",
   "execution_count": 19,
   "metadata": {},
   "outputs": [
    {
     "name": "stdout",
     "output_type": "stream",
     "text": [
      "0.6721810735447886\n",
      "0.1842934210526316\n",
      "3.0517350877192952\n",
      "0.573282502614151\n"
     ]
    }
   ],
   "source": [
    "from numpy import var\n",
    "\n",
    "X_cols = ['SepalLengthCm','SepalWidthCm','PetalLengthCm','PetalWidthCm']\n",
    "\n",
    "for col_name in X_cols:\n",
    "    print(var(iris_df[col_name]))"
   ]
  },
  {
   "cell_type": "code",
   "execution_count": 20,
   "metadata": {},
   "outputs": [],
   "source": [
    "# Variance of all independent variables are higher than 0.1"
   ]
  },
  {
   "cell_type": "markdown",
   "metadata": {},
   "source": [
    "## Question 6\n",
    "\n",
    "*Plot the scatter matrix for all the variables.*"
   ]
  },
  {
   "cell_type": "code",
   "execution_count": 21,
   "metadata": {},
   "outputs": [
    {
     "data": {
      "text/plain": [
       "<seaborn.axisgrid.PairGrid at 0x26812631860>"
      ]
     },
     "execution_count": 21,
     "metadata": {},
     "output_type": "execute_result"
    },
    {
     "data": {
      "image/png": "[encoded data removed]",
      "text/plain": [
       "<Figure size 1123.5x1080 with 42 Axes>"
      ]
     },
     "metadata": {},
     "output_type": "display_data"
    }
   ],
   "source": [
    "#sns.set(style=\"ticks\")\n",
    "sns.pairplot(iris_df, hue=\"Species\")"
   ]
  },
  {
   "cell_type": "markdown",
   "metadata": {},
   "source": [
    "## Split the dataset into training and test sets\n",
    "\n",
    "## Question 7\n",
    "\n",
    "*Split the dataset into training and test sets with 80-20 ratio.*"
   ]
  },
  {
   "cell_type": "code",
   "execution_count": 54,
   "metadata": {},
   "outputs": [],
   "source": [
    "from sklearn.model_selection import train_test_split\n",
    "X = iris_df[X_cols]\n",
    "Y = iris_df.Species\n",
    "X_train, X_test, y_train, y_test = train_test_split(X, Y, test_size=0.20)"
   ]
  },
  {
   "cell_type": "markdown",
   "metadata": {},
   "source": [
    "## Question 8 - Model\n",
    "\n",
    "*Build the model and train and test on training and test sets respectively using **scikit-learn**. Print the Accuracy of the model with different values of **k=3,5,9**.*\n",
    "\n",
    "**Hint:** For accuracy you can check **accuracy_score()** in scikit-learn"
   ]
  },
  {
   "cell_type": "code",
   "execution_count": 55,
   "metadata": {},
   "outputs": [],
   "source": [
    "from sklearn.metrics import accuracy_score\n",
    "from sklearn.neighbors import KNeighborsClassifier"
   ]
  },
  {
   "cell_type": "code",
   "execution_count": 56,
   "metadata": {},
   "outputs": [],
   "source": [
    "def getAccuracy(testSet, predictions):\n",
    "    correct = 0\n",
    "    for x in range(len(testSet)):\n",
    "        if testSet.data[x] == predictions[x]:\n",
    "            correct += 1\n",
    "    return (correct/float(len(testSet)))"
   ]
  },
  {
   "cell_type": "code",
   "execution_count": 57,
   "metadata": {},
   "outputs": [],
   "source": [
    "accuracy_scores_manual = [];\n",
    "accuracy_scores_sys = [];\n",
    "for x in [3,5,9]:\n",
    "    NNH = KNeighborsClassifier(n_neighbors=x, weights='uniform', metric='euclidean')\n",
    "    NNH.fit(X_train, y_train)\n",
    "    predicted_labels = NNH.predict(X_test)\n",
    "    accuracy_scores_manual.append(getAccuracy(y_test, predicted_labels))\n",
    "    accuracy_scores_sys.append(accuracy_score(y_test, predicted_labels))"
   ]
  },
  {
   "cell_type": "code",
   "execution_count": 59,
   "metadata": {},
   "outputs": [
    {
     "name": "stdout",
     "output_type": "stream",
     "text": [
      "[0.9354838709677419, 0.9354838709677419, 0.9032258064516129]\n"
     ]
    }
   ],
   "source": [
    "print(accuracy_scores_sys)"
   ]
  },
  {
   "cell_type": "markdown",
   "metadata": {},
   "source": [
    "## Question 9 - Cross Validation\n",
    "\n",
    "Run the KNN with no of neighbours to be 1,3,5..19 and *Find the **optimal number of neighbours** from the above list using the Mis classification error"
   ]
  },
  {
   "cell_type": "markdown",
   "metadata": {},
   "source": [
    "Hint:\n",
    "\n",
    "Misclassification error (MSE) = 1 - Test accuracy score. Calculated MSE for each model with neighbours = 1,3,5...19 and find the model with lowest MSE"
   ]
  },
  {
   "cell_type": "code",
   "execution_count": 60,
   "metadata": {},
   "outputs": [],
   "source": [
    "from sklearn.grid_search import GridSearchCV\n",
    "\n",
    "k = [1,3,5,7,9,11,13,15,17,19]\n",
    "knn = KNeighborsClassifier()\n",
    "parameters = {'n_neighbors': k}\n",
    "GS = GridSearchCV(knn,parameters,cv=10)"
   ]
  },
  {
   "cell_type": "code",
   "execution_count": 61,
   "metadata": {},
   "outputs": [
    {
     "data": {
      "text/plain": [
       "GridSearchCV(cv=10, error_score='raise',\n",
       "       estimator=KNeighborsClassifier(algorithm='auto', leaf_size=30, metric='minkowski',\n",
       "           metric_params=None, n_jobs=1, n_neighbors=5, p=2,\n",
       "           weights='uniform'),\n",
       "       fit_params={}, iid=True, n_jobs=1,\n",
       "       param_grid={'n_neighbors': [1, 3, 5, 7, 9, 11, 13, 15, 17, 19]},\n",
       "       pre_dispatch='2*n_jobs', refit=True, scoring=None, verbose=0)"
      ]
     },
     "execution_count": 61,
     "metadata": {},
     "output_type": "execute_result"
    }
   ],
   "source": [
    "GS.fit(X_train,y_train)"
   ]
  },
  {
   "cell_type": "code",
   "execution_count": 62,
   "metadata": {},
   "outputs": [
    {
     "data": {
      "text/plain": [
       "array([0, 2, 2, 0, 0, 2, 0, 1, 1, 0, 2, 1, 0, 2, 1, 1, 1, 1, 1, 2, 2, 0,\n",
       "       1, 0, 0, 2, 1, 2, 0, 2, 0], dtype=int64)"
      ]
     },
     "execution_count": 62,
     "metadata": {},
     "output_type": "execute_result"
    }
   ],
   "source": [
    "GS.predict(X_test)"
   ]
  },
  {
   "cell_type": "code",
   "execution_count": 63,
   "metadata": {},
   "outputs": [
    {
     "data": {
      "text/plain": [
       "KNeighborsClassifier(algorithm='auto', leaf_size=30, metric='minkowski',\n",
       "           metric_params=None, n_jobs=1, n_neighbors=9, p=2,\n",
       "           weights='uniform')"
      ]
     },
     "execution_count": 63,
     "metadata": {},
     "output_type": "execute_result"
    }
   ],
   "source": [
    "GS.best_estimator_"
   ]
  },
  {
   "cell_type": "code",
   "execution_count": 76,
   "metadata": {},
   "outputs": [
    {
     "name": "stdout",
     "output_type": "stream",
     "text": [
      "From the result, the best value should be 9\n"
     ]
    }
   ],
   "source": [
    "print('From the result, the best value should be', GS.best_estimator_.get_params()['n_neighbors'])"
   ]
  },
  {
   "cell_type": "markdown",
   "metadata": {},
   "source": [
    "## Question 10\n",
    "\n",
    "*Plot misclassification error vs k (with k value on X-axis) using matplotlib.*"
   ]
  },
  {
   "cell_type": "code",
   "execution_count": 33,
   "metadata": {},
   "outputs": [],
   "source": [
    "misclassification_error = []\n",
    "for i in range(len(k)):\n",
    "    misclassification_error.append(1-GS.grid_scores_[i][1])"
   ]
  },
  {
   "cell_type": "code",
   "execution_count": 34,
   "metadata": {},
   "outputs": [
    {
     "data": {
      "text/plain": [
       "[0.07438016528925617,\n",
       " 0.05785123966942152,\n",
       " 0.06611570247933884,\n",
       " 0.07438016528925617,\n",
       " 0.04958677685950408,\n",
       " 0.04132231404958675,\n",
       " 0.04132231404958675,\n",
       " 0.04132231404958675,\n",
       " 0.04132231404958675,\n",
       " 0.05785123966942152]"
      ]
     },
     "execution_count": 34,
     "metadata": {},
     "output_type": "execute_result"
    }
   ],
   "source": [
    "misclassification_error"
   ]
  },
  {
   "cell_type": "code",
   "execution_count": 35,
   "metadata": {},
   "outputs": [
    {
     "data": {
      "image/png": "[encoded data removed]",
      "text/plain": [
       "<Figure size 432x288 with 1 Axes>"
      ]
     },
     "metadata": {},
     "output_type": "display_data"
    }
   ],
   "source": [
    "import matplotlib.pyplot as plt\n",
    "plt.plot(k, misclassification_error)\n",
    "plt.xlabel('K Value')\n",
    "plt.ylabel('Misclassification Error')\n",
    "plt.show()"
   ]
  },
  {
   "cell_type": "markdown",
   "metadata": {},
   "source": [
    "# Naive Bayes with Iris Data"
   ]
  },
  {
   "cell_type": "code",
   "execution_count": 36,
   "metadata": {},
   "outputs": [],
   "source": [
    "#Load all required library\n",
    "import pandas as pd\n",
    "import numpy as np\n",
    "from matplotlib import pyplot as plt\n",
    "%matplotlib inline\n",
    "from sklearn import datasets\n",
    "from sklearn.decomposition import PCA\n",
    "from sklearn.naive_bayes import GaussianNB, BernoulliNB, MultinomialNB"
   ]
  },
  {
   "cell_type": "markdown",
   "metadata": {},
   "source": [
    "### Slice  Iris data set for Independent variables and dependent variables\n",
    "#### Please note 'Species' is my dependent variables, name it y and independent set data as X"
   ]
  },
  {
   "cell_type": "code",
   "execution_count": 79,
   "metadata": {},
   "outputs": [],
   "source": [
    "iris_df2 = pd.read_csv(\"iris.csv\")"
   ]
  },
  {
   "cell_type": "code",
   "execution_count": 80,
   "metadata": {},
   "outputs": [],
   "source": [
    "X_cols = ['SepalLengthCm','SepalWidthCm','PetalLengthCm','PetalWidthCm']\n",
    "\n",
    "for col in X_cols:\n",
    "    iris_df2[col].fillna(iris_df2[col].mean(), inplace =True)"
   ]
  },
  {
   "cell_type": "code",
   "execution_count": 81,
   "metadata": {},
   "outputs": [],
   "source": [
    "X = iris_df[X_cols]\n",
    "y = iris_df.Species"
   ]
  },
  {
   "cell_type": "code",
   "execution_count": 82,
   "metadata": {},
   "outputs": [
    {
     "name": "stdout",
     "output_type": "stream",
     "text": [
      "0      0\n",
      "1      0\n",
      "2      0\n",
      "3      0\n",
      "4      0\n",
      "5      0\n",
      "6      0\n",
      "7      0\n",
      "8      0\n",
      "9      0\n",
      "10     0\n",
      "11     0\n",
      "12     0\n",
      "13     0\n",
      "14     0\n",
      "15     0\n",
      "16     0\n",
      "17     0\n",
      "18     0\n",
      "19     0\n",
      "20     0\n",
      "21     0\n",
      "22     0\n",
      "23     0\n",
      "24     0\n",
      "25     0\n",
      "26     0\n",
      "27     0\n",
      "28     0\n",
      "29     0\n",
      "      ..\n",
      "122    2\n",
      "123    2\n",
      "124    2\n",
      "125    2\n",
      "126    2\n",
      "127    2\n",
      "128    2\n",
      "129    2\n",
      "130    2\n",
      "131    2\n",
      "132    2\n",
      "133    2\n",
      "134    2\n",
      "135    2\n",
      "136    2\n",
      "137    2\n",
      "138    2\n",
      "139    2\n",
      "140    2\n",
      "141    2\n",
      "142    2\n",
      "143    2\n",
      "144    2\n",
      "145    2\n",
      "146    2\n",
      "147    2\n",
      "148    2\n",
      "149    2\n",
      "150    2\n",
      "151    2\n",
      "Name: Species, Length: 152, dtype: int64\n",
      "     SepalLengthCm  SepalWidthCm  PetalLengthCm  PetalWidthCm\n",
      "0         5.100000         3.500       1.400000      0.200000\n",
      "1         4.900000         3.000       1.400000      0.200000\n",
      "2         4.700000         3.200       1.300000      0.200000\n",
      "3         4.600000         3.100       1.500000      0.200000\n",
      "4         5.000000         3.600       1.400000      0.200000\n",
      "5         5.400000         3.900       1.700000      0.400000\n",
      "6         4.600000         3.400       1.400000      0.300000\n",
      "7         5.000000         3.400       1.500000      0.200000\n",
      "8         4.400000         2.900       1.400000      0.200000\n",
      "9         4.900000         3.100       1.500000      0.100000\n",
      "10        5.400000         3.700       1.500000      0.200000\n",
      "11        4.800000         3.400       1.600000      0.200000\n",
      "12        4.800000         3.000       1.400000      0.100000\n",
      "13        4.300000         3.000       1.100000      0.100000\n",
      "14        5.800000         4.000       1.200000      0.200000\n",
      "15        5.700000         4.400       1.500000      0.400000\n",
      "16        5.400000         3.900       1.300000      0.400000\n",
      "17        5.100000         3.500       1.400000      0.300000\n",
      "18        5.700000         3.800       1.700000      0.300000\n",
      "19        5.100000         3.800       1.500000      0.300000\n",
      "20        5.400000         3.400       1.700000      0.200000\n",
      "21        5.100000         3.700       1.500000      0.400000\n",
      "22        4.600000         3.600       1.000000      0.200000\n",
      "23        5.100000         3.300       1.700000      0.500000\n",
      "24        4.800000         3.400       1.900000      0.200000\n",
      "25        5.000000         3.000       1.600000      0.200000\n",
      "26        5.000000         3.400       1.600000      0.400000\n",
      "27        5.200000         3.500       1.500000      0.200000\n",
      "28        5.200000         3.400       1.400000      0.200000\n",
      "29        4.700000         3.200       1.600000      0.200000\n",
      "..             ...           ...            ...           ...\n",
      "122       7.700000         2.800       6.700000      2.000000\n",
      "123       6.300000         2.700       4.900000      1.800000\n",
      "124       6.700000         3.300       5.700000      2.100000\n",
      "125       7.200000         3.200       6.000000      1.800000\n",
      "126       6.200000         2.800       4.800000      1.800000\n",
      "127       6.100000         3.000       4.900000      1.800000\n",
      "128       6.400000         2.800       5.600000      2.100000\n",
      "129       7.200000         3.000       5.800000      1.600000\n",
      "130       7.400000         2.800       6.100000      1.900000\n",
      "131       7.900000         3.800       6.400000      2.000000\n",
      "132       6.400000         2.800       5.600000      2.200000\n",
      "133       6.300000         2.800       5.100000      1.500000\n",
      "134       6.100000         2.600       5.600000      1.400000\n",
      "135       7.700000         3.000       6.100000      2.300000\n",
      "136       6.300000         3.400       5.600000      2.400000\n",
      "137       6.400000         3.100       5.500000      1.800000\n",
      "138       6.000000         3.000       4.800000      1.800000\n",
      "139       6.900000         3.100       5.400000      2.100000\n",
      "140       6.700000         3.100       5.600000      2.400000\n",
      "141       6.900000         3.100       5.100000      2.300000\n",
      "142       5.800000         2.700       5.100000      1.900000\n",
      "143       6.800000         3.200       5.900000      2.300000\n",
      "144       6.700000         3.300       5.700000      2.500000\n",
      "145       6.700000         3.000       5.200000      2.300000\n",
      "146       6.300000         2.500       5.000000      1.900000\n",
      "147       6.500000         3.000       5.200000      2.000000\n",
      "148       6.200000         3.400       5.400000      2.300000\n",
      "149       5.900000         3.000       5.100000      1.800000\n",
      "150       5.900000         3.054       3.758667      1.202649\n",
      "151       5.843709         3.054       3.758667      1.800000\n",
      "\n",
      "[152 rows x 4 columns]\n"
     ]
    }
   ],
   "source": [
    "#Check the dataset\n",
    "print(y)\n",
    "print(X)"
   ]
  },
  {
   "cell_type": "markdown",
   "metadata": {},
   "source": [
    "# Question 11 \n",
    "Find the distribution of target variable (Class)\n",
    "\n",
    "And, Plot the distribution of target variable using histogram"
   ]
  },
  {
   "cell_type": "code",
   "execution_count": 83,
   "metadata": {},
   "outputs": [
    {
     "data": {
      "text/html": [
       "<div>\n",
       "<style scoped>\n",
       "    .dataframe tbody tr th:only-of-type {\n",
       "        vertical-align: middle;\n",
       "    }\n",
       "\n",
       "    .dataframe tbody tr th {\n",
       "        vertical-align: top;\n",
       "    }\n",
       "\n",
       "    .dataframe thead th {\n",
       "        text-align: right;\n",
       "    }\n",
       "</style>\n",
       "<table border=\"1\" class=\"dataframe\">\n",
       "  <thead>\n",
       "    <tr style=\"text-align: right;\">\n",
       "      <th></th>\n",
       "      <th>Id</th>\n",
       "      <th>SepalLengthCm</th>\n",
       "      <th>SepalWidthCm</th>\n",
       "      <th>PetalLengthCm</th>\n",
       "      <th>PetalWidthCm</th>\n",
       "    </tr>\n",
       "    <tr>\n",
       "      <th>Species</th>\n",
       "      <th></th>\n",
       "      <th></th>\n",
       "      <th></th>\n",
       "      <th></th>\n",
       "      <th></th>\n",
       "    </tr>\n",
       "  </thead>\n",
       "  <tbody>\n",
       "    <tr>\n",
       "      <th>Iris-setosa</th>\n",
       "      <td>50</td>\n",
       "      <td>50</td>\n",
       "      <td>50</td>\n",
       "      <td>50</td>\n",
       "      <td>50</td>\n",
       "    </tr>\n",
       "    <tr>\n",
       "      <th>Iris-versicolor</th>\n",
       "      <td>50</td>\n",
       "      <td>50</td>\n",
       "      <td>50</td>\n",
       "      <td>50</td>\n",
       "      <td>50</td>\n",
       "    </tr>\n",
       "    <tr>\n",
       "      <th>Iris-virginica</th>\n",
       "      <td>52</td>\n",
       "      <td>52</td>\n",
       "      <td>52</td>\n",
       "      <td>52</td>\n",
       "      <td>52</td>\n",
       "    </tr>\n",
       "  </tbody>\n",
       "</table>\n",
       "</div>"
      ],
      "text/plain": [
       "                 Id  SepalLengthCm  SepalWidthCm  PetalLengthCm  PetalWidthCm\n",
       "Species                                                                      \n",
       "Iris-setosa      50             50            50             50            50\n",
       "Iris-versicolor  50             50            50             50            50\n",
       "Iris-virginica   52             52            52             52            52"
      ]
     },
     "execution_count": 83,
     "metadata": {},
     "output_type": "execute_result"
    }
   ],
   "source": [
    "iris_df2.groupby([\"Species\"]).count()"
   ]
  },
  {
   "cell_type": "code",
   "execution_count": 84,
   "metadata": {},
   "outputs": [],
   "source": [
    "iris_df2.drop(['Id'],axis=1,inplace=True)"
   ]
  },
  {
   "cell_type": "code",
   "execution_count": 85,
   "metadata": {},
   "outputs": [
    {
     "data": {
      "text/plain": [
       "<matplotlib.axes._subplots.AxesSubplot at 0x26817657588>"
      ]
     },
     "execution_count": 85,
     "metadata": {},
     "output_type": "execute_result"
    },
    {
     "data": {
      "image/png": "[encoded data removed]",
      "text/plain": [
       "<Figure size 432x288 with 1 Axes>"
      ]
     },
     "metadata": {},
     "output_type": "display_data"
    }
   ],
   "source": [
    "iris_df2['Species'].hist(bins=3)"
   ]
  },
  {
   "cell_type": "code",
   "execution_count": 86,
   "metadata": {},
   "outputs": [
    {
     "data": {
      "text/plain": [
       "<matplotlib.axes._subplots.AxesSubplot at 0x268177cc518>"
      ]
     },
     "execution_count": 86,
     "metadata": {},
     "output_type": "execute_result"
    },
    {
     "data": {
      "image/png": "[encoded data removed]",
      "text/plain": [
       "<Figure size 432x288 with 1 Axes>"
      ]
     },
     "metadata": {},
     "output_type": "display_data"
    }
   ],
   "source": [
    "sns.set_style('whitegrid')\n",
    "sns.countplot(x='Species',data=iris_df2,palette='RdBu_r')"
   ]
  },
  {
   "cell_type": "markdown",
   "metadata": {},
   "source": [
    "### Question 12 \n",
    "Find Correlation among all variables and give your insights "
   ]
  },
  {
   "cell_type": "code",
   "execution_count": 87,
   "metadata": {},
   "outputs": [],
   "source": [
    "#Please note, it's Require to remove correlated features because they are voted twice in the model and \n",
    "## it can lead to over inflating importance.We will ignore it here"
   ]
  },
  {
   "cell_type": "code",
   "execution_count": 88,
   "metadata": {},
   "outputs": [],
   "source": [
    "species_names = iris_df2.Species.unique()\n",
    "iris_df2['Species_Id'] = iris_df2['Species']\n",
    "cnt=0\n",
    "iris_df2.head()\n",
    "for sp_name in species_names:\n",
    "    iris_df2['Species_Id'].replace(sp_name,cnt,inplace=True)\n",
    "    cnt=cnt+1"
   ]
  },
  {
   "cell_type": "code",
   "execution_count": 89,
   "metadata": {},
   "outputs": [
    {
     "data": {
      "text/html": [
       "<div>\n",
       "<style scoped>\n",
       "    .dataframe tbody tr th:only-of-type {\n",
       "        vertical-align: middle;\n",
       "    }\n",
       "\n",
       "    .dataframe tbody tr th {\n",
       "        vertical-align: top;\n",
       "    }\n",
       "\n",
       "    .dataframe thead th {\n",
       "        text-align: right;\n",
       "    }\n",
       "</style>\n",
       "<table border=\"1\" class=\"dataframe\">\n",
       "  <thead>\n",
       "    <tr style=\"text-align: right;\">\n",
       "      <th></th>\n",
       "      <th>SepalLengthCm</th>\n",
       "      <th>SepalWidthCm</th>\n",
       "      <th>PetalLengthCm</th>\n",
       "      <th>PetalWidthCm</th>\n",
       "      <th>Species_Id</th>\n",
       "    </tr>\n",
       "  </thead>\n",
       "  <tbody>\n",
       "    <tr>\n",
       "      <th>SepalLengthCm</th>\n",
       "      <td>1.000000</td>\n",
       "      <td>-0.109368</td>\n",
       "      <td>0.871741</td>\n",
       "      <td>0.816256</td>\n",
       "      <td>0.775490</td>\n",
       "    </tr>\n",
       "    <tr>\n",
       "      <th>SepalWidthCm</th>\n",
       "      <td>-0.109368</td>\n",
       "      <td>1.000000</td>\n",
       "      <td>-0.420516</td>\n",
       "      <td>-0.355808</td>\n",
       "      <td>-0.415367</td>\n",
       "    </tr>\n",
       "    <tr>\n",
       "      <th>PetalLengthCm</th>\n",
       "      <td>0.871741</td>\n",
       "      <td>-0.420516</td>\n",
       "      <td>1.000000</td>\n",
       "      <td>0.960771</td>\n",
       "      <td>0.939813</td>\n",
       "    </tr>\n",
       "    <tr>\n",
       "      <th>PetalWidthCm</th>\n",
       "      <td>0.816256</td>\n",
       "      <td>-0.355808</td>\n",
       "      <td>0.960771</td>\n",
       "      <td>1.000000</td>\n",
       "      <td>0.951545</td>\n",
       "    </tr>\n",
       "    <tr>\n",
       "      <th>Species_Id</th>\n",
       "      <td>0.775490</td>\n",
       "      <td>-0.415367</td>\n",
       "      <td>0.939813</td>\n",
       "      <td>0.951545</td>\n",
       "      <td>1.000000</td>\n",
       "    </tr>\n",
       "  </tbody>\n",
       "</table>\n",
       "</div>"
      ],
      "text/plain": [
       "               SepalLengthCm  SepalWidthCm  PetalLengthCm  PetalWidthCm  \\\n",
       "SepalLengthCm       1.000000     -0.109368       0.871741      0.816256   \n",
       "SepalWidthCm       -0.109368      1.000000      -0.420516     -0.355808   \n",
       "PetalLengthCm       0.871741     -0.420516       1.000000      0.960771   \n",
       "PetalWidthCm        0.816256     -0.355808       0.960771      1.000000   \n",
       "Species_Id          0.775490     -0.415367       0.939813      0.951545   \n",
       "\n",
       "               Species_Id  \n",
       "SepalLengthCm    0.775490  \n",
       "SepalWidthCm    -0.415367  \n",
       "PetalLengthCm    0.939813  \n",
       "PetalWidthCm     0.951545  \n",
       "Species_Id       1.000000  "
      ]
     },
     "execution_count": 89,
     "metadata": {},
     "output_type": "execute_result"
    }
   ],
   "source": [
    "iris_df2.corr(method='pearson')"
   ]
  },
  {
   "cell_type": "code",
   "execution_count": 90,
   "metadata": {},
   "outputs": [
    {
     "data": {
      "text/html": [
       "<style  type=\"text/css\" >\n",
       "    #T_ac0b7eec_e5c8_11e8_8761_80c5f205c5c8row0_col0 {\n",
       "            background-color:  #b40426;\n",
       "        }    #T_ac0b7eec_e5c8_11e8_8761_80c5f205c5c8row0_col1 {\n",
       "            background-color:  #3b4cc0;\n",
       "        }    #T_ac0b7eec_e5c8_11e8_8761_80c5f205c5c8row0_col2 {\n",
       "            background-color:  #da5a49;\n",
       "        }    #T_ac0b7eec_e5c8_11e8_8761_80c5f205c5c8row0_col3 {\n",
       "            background-color:  #e7745b;\n",
       "        }    #T_ac0b7eec_e5c8_11e8_8761_80c5f205c5c8row0_col4 {\n",
       "            background-color:  #ee8468;\n",
       "        }    #T_ac0b7eec_e5c8_11e8_8761_80c5f205c5c8row1_col0 {\n",
       "            background-color:  #82a6fb;\n",
       "        }    #T_ac0b7eec_e5c8_11e8_8761_80c5f205c5c8row1_col1 {\n",
       "            background-color:  #b40426;\n",
       "        }    #T_ac0b7eec_e5c8_11e8_8761_80c5f205c5c8row1_col2 {\n",
       "            background-color:  #3b4cc0;\n",
       "        }    #T_ac0b7eec_e5c8_11e8_8761_80c5f205c5c8row1_col3 {\n",
       "            background-color:  #485fd1;\n",
       "        }    #T_ac0b7eec_e5c8_11e8_8761_80c5f205c5c8row1_col4 {\n",
       "            background-color:  #3b4cc0;\n",
       "        }    #T_ac0b7eec_e5c8_11e8_8761_80c5f205c5c8row2_col0 {\n",
       "            background-color:  #d44e41;\n",
       "        }    #T_ac0b7eec_e5c8_11e8_8761_80c5f205c5c8row2_col1 {\n",
       "            background-color:  #3b4cc0;\n",
       "        }    #T_ac0b7eec_e5c8_11e8_8761_80c5f205c5c8row2_col2 {\n",
       "            background-color:  #b40426;\n",
       "        }    #T_ac0b7eec_e5c8_11e8_8761_80c5f205c5c8row2_col3 {\n",
       "            background-color:  #be242e;\n",
       "        }    #T_ac0b7eec_e5c8_11e8_8761_80c5f205c5c8row2_col4 {\n",
       "            background-color:  #c32e31;\n",
       "        }    #T_ac0b7eec_e5c8_11e8_8761_80c5f205c5c8row3_col0 {\n",
       "            background-color:  #e0654f;\n",
       "        }    #T_ac0b7eec_e5c8_11e8_8761_80c5f205c5c8row3_col1 {\n",
       "            background-color:  #3b4cc0;\n",
       "        }    #T_ac0b7eec_e5c8_11e8_8761_80c5f205c5c8row3_col2 {\n",
       "            background-color:  #be242e;\n",
       "        }    #T_ac0b7eec_e5c8_11e8_8761_80c5f205c5c8row3_col3 {\n",
       "            background-color:  #b40426;\n",
       "        }    #T_ac0b7eec_e5c8_11e8_8761_80c5f205c5c8row3_col4 {\n",
       "            background-color:  #c12b30;\n",
       "        }    #T_ac0b7eec_e5c8_11e8_8761_80c5f205c5c8row4_col0 {\n",
       "            background-color:  #e57058;\n",
       "        }    #T_ac0b7eec_e5c8_11e8_8761_80c5f205c5c8row4_col1 {\n",
       "            background-color:  #3b4cc0;\n",
       "        }    #T_ac0b7eec_e5c8_11e8_8761_80c5f205c5c8row4_col2 {\n",
       "            background-color:  #c32e31;\n",
       "        }    #T_ac0b7eec_e5c8_11e8_8761_80c5f205c5c8row4_col3 {\n",
       "            background-color:  #c0282f;\n",
       "        }    #T_ac0b7eec_e5c8_11e8_8761_80c5f205c5c8row4_col4 {\n",
       "            background-color:  #b40426;\n",
       "        }</style>  \n",
       "<table id=\"T_ac0b7eec_e5c8_11e8_8761_80c5f205c5c8\" > \n",
       "<thead>    <tr> \n",
       "        <th class=\"blank level0\" ></th> \n",
       "        <th class=\"col_heading level0 col0\" >SepalLengthCm</th> \n",
       "        <th class=\"col_heading level0 col1\" >SepalWidthCm</th> \n",
       "        <th class=\"col_heading level0 col2\" >PetalLengthCm</th> \n",
       "        <th class=\"col_heading level0 col3\" >PetalWidthCm</th> \n",
       "        <th class=\"col_heading level0 col4\" >Species_Id</th> \n",
       "    </tr></thead> \n",
       "<tbody>    <tr> \n",
       "        <th id=\"T_ac0b7eec_e5c8_11e8_8761_80c5f205c5c8level0_row0\" class=\"row_heading level0 row0\" >SepalLengthCm</th> \n",
       "        <td id=\"T_ac0b7eec_e5c8_11e8_8761_80c5f205c5c8row0_col0\" class=\"data row0 col0\" >1.0</td> \n",
       "        <td id=\"T_ac0b7eec_e5c8_11e8_8761_80c5f205c5c8row0_col1\" class=\"data row0 col1\" >-0.11</td> \n",
       "        <td id=\"T_ac0b7eec_e5c8_11e8_8761_80c5f205c5c8row0_col2\" class=\"data row0 col2\" >0.87</td> \n",
       "        <td id=\"T_ac0b7eec_e5c8_11e8_8761_80c5f205c5c8row0_col3\" class=\"data row0 col3\" >0.82</td> \n",
       "        <td id=\"T_ac0b7eec_e5c8_11e8_8761_80c5f205c5c8row0_col4\" class=\"data row0 col4\" >0.78</td> \n",
       "    </tr>    <tr> \n",
       "        <th id=\"T_ac0b7eec_e5c8_11e8_8761_80c5f205c5c8level0_row1\" class=\"row_heading level0 row1\" >SepalWidthCm</th> \n",
       "        <td id=\"T_ac0b7eec_e5c8_11e8_8761_80c5f205c5c8row1_col0\" class=\"data row1 col0\" >-0.11</td> \n",
       "        <td id=\"T_ac0b7eec_e5c8_11e8_8761_80c5f205c5c8row1_col1\" class=\"data row1 col1\" >1.0</td> \n",
       "        <td id=\"T_ac0b7eec_e5c8_11e8_8761_80c5f205c5c8row1_col2\" class=\"data row1 col2\" >-0.42</td> \n",
       "        <td id=\"T_ac0b7eec_e5c8_11e8_8761_80c5f205c5c8row1_col3\" class=\"data row1 col3\" >-0.36</td> \n",
       "        <td id=\"T_ac0b7eec_e5c8_11e8_8761_80c5f205c5c8row1_col4\" class=\"data row1 col4\" >-0.42</td> \n",
       "    </tr>    <tr> \n",
       "        <th id=\"T_ac0b7eec_e5c8_11e8_8761_80c5f205c5c8level0_row2\" class=\"row_heading level0 row2\" >PetalLengthCm</th> \n",
       "        <td id=\"T_ac0b7eec_e5c8_11e8_8761_80c5f205c5c8row2_col0\" class=\"data row2 col0\" >0.87</td> \n",
       "        <td id=\"T_ac0b7eec_e5c8_11e8_8761_80c5f205c5c8row2_col1\" class=\"data row2 col1\" >-0.42</td> \n",
       "        <td id=\"T_ac0b7eec_e5c8_11e8_8761_80c5f205c5c8row2_col2\" class=\"data row2 col2\" >1.0</td> \n",
       "        <td id=\"T_ac0b7eec_e5c8_11e8_8761_80c5f205c5c8row2_col3\" class=\"data row2 col3\" >0.96</td> \n",
       "        <td id=\"T_ac0b7eec_e5c8_11e8_8761_80c5f205c5c8row2_col4\" class=\"data row2 col4\" >0.94</td> \n",
       "    </tr>    <tr> \n",
       "        <th id=\"T_ac0b7eec_e5c8_11e8_8761_80c5f205c5c8level0_row3\" class=\"row_heading level0 row3\" >PetalWidthCm</th> \n",
       "        <td id=\"T_ac0b7eec_e5c8_11e8_8761_80c5f205c5c8row3_col0\" class=\"data row3 col0\" >0.82</td> \n",
       "        <td id=\"T_ac0b7eec_e5c8_11e8_8761_80c5f205c5c8row3_col1\" class=\"data row3 col1\" >-0.36</td> \n",
       "        <td id=\"T_ac0b7eec_e5c8_11e8_8761_80c5f205c5c8row3_col2\" class=\"data row3 col2\" >0.96</td> \n",
       "        <td id=\"T_ac0b7eec_e5c8_11e8_8761_80c5f205c5c8row3_col3\" class=\"data row3 col3\" >1.0</td> \n",
       "        <td id=\"T_ac0b7eec_e5c8_11e8_8761_80c5f205c5c8row3_col4\" class=\"data row3 col4\" >0.95</td> \n",
       "    </tr>    <tr> \n",
       "        <th id=\"T_ac0b7eec_e5c8_11e8_8761_80c5f205c5c8level0_row4\" class=\"row_heading level0 row4\" >Species_Id</th> \n",
       "        <td id=\"T_ac0b7eec_e5c8_11e8_8761_80c5f205c5c8row4_col0\" class=\"data row4 col0\" >0.78</td> \n",
       "        <td id=\"T_ac0b7eec_e5c8_11e8_8761_80c5f205c5c8row4_col1\" class=\"data row4 col1\" >-0.42</td> \n",
       "        <td id=\"T_ac0b7eec_e5c8_11e8_8761_80c5f205c5c8row4_col2\" class=\"data row4 col2\" >0.94</td> \n",
       "        <td id=\"T_ac0b7eec_e5c8_11e8_8761_80c5f205c5c8row4_col3\" class=\"data row4 col3\" >0.95</td> \n",
       "        <td id=\"T_ac0b7eec_e5c8_11e8_8761_80c5f205c5c8row4_col4\" class=\"data row4 col4\" >1.0</td> \n",
       "    </tr></tbody> \n",
       "</table> "
      ],
      "text/plain": [
       "<pandas.io.formats.style.Styler at 0x26817b14e48>"
      ]
     },
     "execution_count": 90,
     "metadata": {},
     "output_type": "execute_result"
    }
   ],
   "source": [
    "iris_df2.corr(method='pearson').style.format(\"{:.2}\").background_gradient(cmap=plt.get_cmap('coolwarm'), axis=1)"
   ]
  },
  {
   "cell_type": "code",
   "execution_count": 91,
   "metadata": {},
   "outputs": [],
   "source": [
    "#From the correlation heat map, it's evident that\n",
    "# 1. PetalLengthCm and PetalWidthCm are highly correlated = 0.96 (~1). So we can ignore either of the 2 attributes from model\n",
    "# 2. As PetalWidthCm and SepalLengthCm also shows good correlation = 0.82, we can ignore PetalWidthCm \n",
    "#    (This will help the above point #1 too)"
   ]
  },
  {
   "cell_type": "markdown",
   "metadata": {},
   "source": [
    "### Split data in Training and test set in 80:20."
   ]
  },
  {
   "cell_type": "code",
   "execution_count": 113,
   "metadata": {},
   "outputs": [],
   "source": [
    "from sklearn.model_selection import train_test_split\n",
    "\n",
    "X2 = iris_df2[['SepalLengthCm','SepalWidthCm','PetalLengthCm']]\n",
    "Y2 = iris_df2.Species_Id\n",
    "X2_train, X2_test, y2_train, y2_test = train_test_split(X2, Y2, test_size=0.20)"
   ]
  },
  {
   "cell_type": "markdown",
   "metadata": {},
   "source": [
    "### Question 13 \n",
    "Do Feature Scaling "
   ]
  },
  {
   "cell_type": "code",
   "execution_count": null,
   "metadata": {},
   "outputs": [],
   "source": [
    "# Use StandardScaler or similar methods"
   ]
  },
  {
   "cell_type": "code",
   "execution_count": 114,
   "metadata": {},
   "outputs": [],
   "source": [
    "# Initialise the Scaler\n",
    "from sklearn.preprocessing import StandardScaler\n",
    "\n",
    "scaler = StandardScaler() \n",
    "X2_train_scaled = scaler.fit_transform(X2_train)\n",
    "X2_test_scaled = scaler.fit_transform(X2_test)"
   ]
  },
  {
   "cell_type": "markdown",
   "metadata": {},
   "source": [
    "### Question 14 \n",
    "Train and Fit NaiveBayes Model"
   ]
  },
  {
   "cell_type": "code",
   "execution_count": 132,
   "metadata": {},
   "outputs": [
    {
     "data": {
      "text/plain": [
       "GaussianNB(priors=None)"
      ]
     },
     "execution_count": 132,
     "metadata": {},
     "output_type": "execute_result"
    }
   ],
   "source": [
    "#Fit the model\n",
    "from sklearn.naive_bayes import GaussianNB\n",
    "\n",
    "model = GaussianNB()\n",
    "model.fit(X2_train, y2_train)"
   ]
  },
  {
   "cell_type": "code",
   "execution_count": 133,
   "metadata": {},
   "outputs": [],
   "source": [
    "#Predict\n",
    "expected = y2_test\n",
    "predicted = model.predict(X2_test)"
   ]
  },
  {
   "cell_type": "markdown",
   "metadata": {},
   "source": [
    "### Question 15 \n",
    "Print Accuracy and Confusion Matrix and Conclude your findings"
   ]
  },
  {
   "cell_type": "code",
   "execution_count": 134,
   "metadata": {},
   "outputs": [
    {
     "name": "stdout",
     "output_type": "stream",
     "text": [
      "[[ 9  0  0]\n",
      " [ 0 11  2]\n",
      " [ 0  0  9]]\n"
     ]
    }
   ],
   "source": [
    "# show Confusion Matrix\n",
    "from sklearn import metrics\n",
    "print(metrics.confusion_matrix(expected, predicted))"
   ]
  },
  {
   "cell_type": "code",
   "execution_count": 135,
   "metadata": {},
   "outputs": [
    {
     "name": "stdout",
     "output_type": "stream",
     "text": [
      "0.9354838709677419\n"
     ]
    }
   ],
   "source": [
    "# show accuracy\n",
    "print(metrics.accuracy_score(expected, predicted))"
   ]
  },
  {
   "cell_type": "code",
   "execution_count": 136,
   "metadata": {},
   "outputs": [],
   "source": [
    "#Show precision and Recall metrics"
   ]
  },
  {
   "cell_type": "code",
   "execution_count": 137,
   "metadata": {},
   "outputs": [
    {
     "name": "stdout",
     "output_type": "stream",
     "text": [
      "             precision    recall  f1-score   support\n",
      "\n",
      "          0       1.00      1.00      1.00         9\n",
      "          1       1.00      0.85      0.92        13\n",
      "          2       0.82      1.00      0.90         9\n",
      "\n",
      "avg / total       0.95      0.94      0.94        31\n",
      "\n"
     ]
    }
   ],
   "source": [
    "print(metrics.classification_report(expected, predicted))"
   ]
  },
  {
   "cell_type": "code",
   "execution_count": 138,
   "metadata": {},
   "outputs": [
    {
     "name": "stdout",
     "output_type": "stream",
     "text": [
      "0.9032258064516129\n"
     ]
    }
   ],
   "source": [
    "model = GaussianNB()\n",
    "model.fit(X2_train_scaled, y2_train)\n",
    "predicted2 = model.predict(X2_test_scaled)\n",
    "print(metrics.accuracy_score(expected, predicted2))"
   ]
  },
  {
   "cell_type": "code",
   "execution_count": 139,
   "metadata": {},
   "outputs": [],
   "source": [
    "# Precision talks about accuracy of the model. It's associated to False Positives.\n",
    "# As False Positives are very minimal, the precision is close to 95%\n",
    "\n",
    "# Similarly Recall is associated to False Negative.\n",
    "# As False Negatives are also very minimal, the recall is close to 95%\n",
    "\n",
    "# Overall the model is having a good fit"
   ]
  },
  {
   "cell_type": "markdown",
   "metadata": {},
   "source": [
    "# For Practice  - Optional\n",
    "\n",
    "- Will Attach these optional answers separately "
   ]
  }
 ],
 "metadata": {
  "kernelspec": {
   "display_name": "Python 3",
   "language": "python",
   "name": "python3"
  },
  "language_info": {
   "codemirror_mode": {
    "name": "ipython",
    "version": 3
   },
   "file_extension": ".py",
   "mimetype": "text/x-python",
   "name": "python",
   "nbconvert_exporter": "python",
   "pygments_lexer": "ipython3",
   "version": "3.6.5"
  }
 },
 "nbformat": 4,
 "nbformat_minor": 2
}
